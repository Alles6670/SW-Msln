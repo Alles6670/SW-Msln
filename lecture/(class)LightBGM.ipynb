{
 "cells": [
  {
   "cell_type": "code",
   "execution_count": 1,
   "metadata": {
    "ExecuteTime": {
     "end_time": "2020-10-08T11:56:48.086985Z",
     "start_time": "2020-10-08T11:56:47.448205Z"
    }
   },
   "outputs": [],
   "source": [
    "%reload_ext autoreload\n",
    "%autoreload 2\n",
    "%matplotlib inline"
   ]
  },
  {
   "cell_type": "code",
   "execution_count": 2,
   "metadata": {
    "ExecuteTime": {
     "end_time": "2020-10-08T11:56:49.176686Z",
     "start_time": "2020-10-08T11:56:48.089520Z"
    }
   },
   "outputs": [],
   "source": [
    "import lightgbm as lgb\n",
    "from matplotlib import pyplot as plt\n",
    "from matplotlib import rcParams\n",
    "import numpy as np\n",
    "from pathlib import Path\n",
    "import pandas as pd\n",
    "from sklearn.metrics import accuracy_score\n",
    "from sklearn.model_selection import train_test_split\n",
    "import seaborn as sns\n",
    "import warnings\n",
    "import kaggler"
   ]
  },
  {
   "cell_type": "code",
   "execution_count": 3,
   "metadata": {
    "ExecuteTime": {
     "end_time": "2020-10-08T11:56:49.226513Z",
     "start_time": "2020-10-08T11:56:49.179900Z"
    }
   },
   "outputs": [],
   "source": [
    "rcParams['figure.figsize'] = (16, 8)\n",
    "plt.style.use('fivethirtyeight')\n",
    "pd.set_option('max_columns', 100)\n",
    "pd.set_option(\"display.precision\", 4)\n",
    "warnings.simplefilter('ignore')"
   ]
  },
  {
   "cell_type": "code",
   "execution_count": 4,
   "metadata": {
    "ExecuteTime": {
     "end_time": "2020-10-08T11:56:49.275616Z",
     "start_time": "2020-10-08T11:56:49.230702Z"
    }
   },
   "outputs": [],
   "source": [
    "data_dir = Path('./Dacon')\n",
    "feature_dir = Path('./Dacon')\n",
    "sub_dir = Path('./Dacon')\n",
    "\n",
    "trn_file = data_dir / 'feature_1.csv'\n",
    "tst_file = data_dir / 'test.csv'\n",
    "sample_file = data_dir / 'sample_submission.csv'\n",
    "\n",
    "target_col = 'class'\n",
    "seed = 42"
   ]
  },
  {
   "cell_type": "code",
   "execution_count": 5,
   "metadata": {
    "ExecuteTime": {
     "end_time": "2020-10-08T11:56:49.321864Z",
     "start_time": "2020-10-08T11:56:49.278316Z"
    }
   },
   "outputs": [],
   "source": [
    "algo_name = 'lgb'\n",
    "feature_name = 'feature'\n",
    "model_name = f'{algo_name}_{feature_name}'\n",
    "\n",
    "feature_file = feature_dir / f'{feature_name}.csv'\n",
    "sub_file = sub_dir / f'{model_name}.csv'"
   ]
  },
  {
   "cell_type": "code",
   "execution_count": 6,
   "metadata": {
    "ExecuteTime": {
     "end_time": "2020-10-08T11:56:50.517650Z",
     "start_time": "2020-10-08T11:56:49.324275Z"
    }
   },
   "outputs": [
    {
     "name": "stdout",
     "output_type": "stream",
     "text": [
      "(320000, 17)\n"
     ]
    },
    {
     "data": {
      "text/html": [
       "<div>\n",
       "<style scoped>\n",
       "    .dataframe tbody tr th:only-of-type {\n",
       "        vertical-align: middle;\n",
       "    }\n",
       "\n",
       "    .dataframe tbody tr th {\n",
       "        vertical-align: top;\n",
       "    }\n",
       "\n",
       "    .dataframe thead th {\n",
       "        text-align: right;\n",
       "    }\n",
       "</style>\n",
       "<table border=\"1\" class=\"dataframe\">\n",
       "  <thead>\n",
       "    <tr style=\"text-align: right;\">\n",
       "      <th></th>\n",
       "      <th>u</th>\n",
       "      <th>g</th>\n",
       "      <th>r</th>\n",
       "      <th>i</th>\n",
       "      <th>z</th>\n",
       "      <th>redshift</th>\n",
       "      <th>dered_u</th>\n",
       "      <th>dered_g</th>\n",
       "      <th>dered_r</th>\n",
       "      <th>dered_i</th>\n",
       "      <th>dered_z</th>\n",
       "      <th>airmass_u</th>\n",
       "      <th>airmass_g</th>\n",
       "      <th>airmass_r</th>\n",
       "      <th>airmass_i</th>\n",
       "      <th>airmass_z</th>\n",
       "      <th>class</th>\n",
       "    </tr>\n",
       "    <tr>\n",
       "      <th>id</th>\n",
       "      <th></th>\n",
       "      <th></th>\n",
       "      <th></th>\n",
       "      <th></th>\n",
       "      <th></th>\n",
       "      <th></th>\n",
       "      <th></th>\n",
       "      <th></th>\n",
       "      <th></th>\n",
       "      <th></th>\n",
       "      <th></th>\n",
       "      <th></th>\n",
       "      <th></th>\n",
       "      <th></th>\n",
       "      <th></th>\n",
       "      <th></th>\n",
       "      <th></th>\n",
       "    </tr>\n",
       "  </thead>\n",
       "  <tbody>\n",
       "    <tr>\n",
       "      <th>0</th>\n",
       "      <td>1.7535</td>\n",
       "      <td>0.0630</td>\n",
       "      <td>0.8687</td>\n",
       "      <td>0.0095</td>\n",
       "      <td>0.0011</td>\n",
       "      <td>-0.1015</td>\n",
       "      <td>1.8171</td>\n",
       "      <td>0.1142</td>\n",
       "      <td>0.9095</td>\n",
       "      <td>0.0191</td>\n",
       "      <td>0.0011</td>\n",
       "      <td>0.1204</td>\n",
       "      <td>0.1199</td>\n",
       "      <td>0.1207</td>\n",
       "      <td>0.1206</td>\n",
       "      <td>0.1202</td>\n",
       "      <td>0</td>\n",
       "    </tr>\n",
       "    <tr>\n",
       "      <th>1</th>\n",
       "      <td>-2.4673</td>\n",
       "      <td>-0.1387</td>\n",
       "      <td>-2.9213</td>\n",
       "      <td>-0.0743</td>\n",
       "      <td>-0.0649</td>\n",
       "      <td>-0.0935</td>\n",
       "      <td>-2.4238</td>\n",
       "      <td>-0.2374</td>\n",
       "      <td>-2.8540</td>\n",
       "      <td>-0.1562</td>\n",
       "      <td>-0.1054</td>\n",
       "      <td>0.6663</td>\n",
       "      <td>0.6887</td>\n",
       "      <td>0.6418</td>\n",
       "      <td>0.6543</td>\n",
       "      <td>0.6778</td>\n",
       "      <td>1</td>\n",
       "    </tr>\n",
       "    <tr>\n",
       "      <th>2</th>\n",
       "      <td>-1.5759</td>\n",
       "      <td>-0.0820</td>\n",
       "      <td>-1.5001</td>\n",
       "      <td>-0.0339</td>\n",
       "      <td>-0.0267</td>\n",
       "      <td>-0.1005</td>\n",
       "      <td>-1.5706</td>\n",
       "      <td>-0.1428</td>\n",
       "      <td>-1.4768</td>\n",
       "      <td>-0.0730</td>\n",
       "      <td>-0.0444</td>\n",
       "      <td>-1.3179</td>\n",
       "      <td>-1.2910</td>\n",
       "      <td>-1.3437</td>\n",
       "      <td>-1.3309</td>\n",
       "      <td>-1.3046</td>\n",
       "      <td>0</td>\n",
       "    </tr>\n",
       "    <tr>\n",
       "      <th>3</th>\n",
       "      <td>2.9854</td>\n",
       "      <td>0.0904</td>\n",
       "      <td>1.6951</td>\n",
       "      <td>0.0518</td>\n",
       "      <td>0.0483</td>\n",
       "      <td>-0.1013</td>\n",
       "      <td>2.9761</td>\n",
       "      <td>0.1556</td>\n",
       "      <td>1.6781</td>\n",
       "      <td>0.1054</td>\n",
       "      <td>0.0758</td>\n",
       "      <td>0.2548</td>\n",
       "      <td>0.2501</td>\n",
       "      <td>0.2593</td>\n",
       "      <td>0.2571</td>\n",
       "      <td>0.2525</td>\n",
       "      <td>0</td>\n",
       "    </tr>\n",
       "    <tr>\n",
       "      <th>4</th>\n",
       "      <td>2.3649</td>\n",
       "      <td>0.0746</td>\n",
       "      <td>0.8911</td>\n",
       "      <td>0.0219</td>\n",
       "      <td>0.0194</td>\n",
       "      <td>-0.1014</td>\n",
       "      <td>2.1535</td>\n",
       "      <td>0.1241</td>\n",
       "      <td>0.8469</td>\n",
       "      <td>0.0414</td>\n",
       "      <td>0.0284</td>\n",
       "      <td>0.1563</td>\n",
       "      <td>0.1504</td>\n",
       "      <td>0.1622</td>\n",
       "      <td>0.1593</td>\n",
       "      <td>0.1534</td>\n",
       "      <td>0</td>\n",
       "    </tr>\n",
       "  </tbody>\n",
       "</table>\n",
       "</div>"
      ],
      "text/plain": [
       "         u       g       r       i       z  redshift  dered_u  dered_g  \\\n",
       "id                                                                       \n",
       "0   1.7535  0.0630  0.8687  0.0095  0.0011   -0.1015   1.8171   0.1142   \n",
       "1  -2.4673 -0.1387 -2.9213 -0.0743 -0.0649   -0.0935  -2.4238  -0.2374   \n",
       "2  -1.5759 -0.0820 -1.5001 -0.0339 -0.0267   -0.1005  -1.5706  -0.1428   \n",
       "3   2.9854  0.0904  1.6951  0.0518  0.0483   -0.1013   2.9761   0.1556   \n",
       "4   2.3649  0.0746  0.8911  0.0219  0.0194   -0.1014   2.1535   0.1241   \n",
       "\n",
       "    dered_r  dered_i  dered_z  airmass_u  airmass_g  airmass_r  airmass_i  \\\n",
       "id                                                                          \n",
       "0    0.9095   0.0191   0.0011     0.1204     0.1199     0.1207     0.1206   \n",
       "1   -2.8540  -0.1562  -0.1054     0.6663     0.6887     0.6418     0.6543   \n",
       "2   -1.4768  -0.0730  -0.0444    -1.3179    -1.2910    -1.3437    -1.3309   \n",
       "3    1.6781   0.1054   0.0758     0.2548     0.2501     0.2593     0.2571   \n",
       "4    0.8469   0.0414   0.0284     0.1563     0.1504     0.1622     0.1593   \n",
       "\n",
       "    airmass_z  class  \n",
       "id                    \n",
       "0      0.1202      0  \n",
       "1      0.6778      1  \n",
       "2     -1.3046      0  \n",
       "3      0.2525      0  \n",
       "4      0.1534      0  "
      ]
     },
     "execution_count": 6,
     "metadata": {},
     "output_type": "execute_result"
    }
   ],
   "source": [
    "df = pd.read_csv(trn_file, index_col=0)\n",
    "print(df.shape)\n",
    "df.head()"
   ]
  },
  {
   "cell_type": "code",
   "execution_count": 7,
   "metadata": {
    "ExecuteTime": {
     "end_time": "2020-10-08T11:56:50.907811Z",
     "start_time": "2020-10-08T11:56:50.528253Z"
    }
   },
   "outputs": [
    {
     "name": "stdout",
     "output_type": "stream",
     "text": [
      "(320000,) (320000, 16) (80000, 18)\n",
      "[0 1 0 ... 0 0 0]\n"
     ]
    }
   ],
   "source": [
    "y = df[target_col].values[:320000]\n",
    "df.drop(target_col, axis=1, inplace=True)\n",
    "trn = df.iloc[:320000]\n",
    "tst = pd.read_csv(tst_file, index_col=0)\n",
    "feature_name = df.columns.tolist()\n",
    "print(y.shape, trn.shape, tst.shape)\n",
    "print(y)"
   ]
  },
  {
   "cell_type": "code",
   "execution_count": 8,
   "metadata": {
    "ExecuteTime": {
     "end_time": "2020-10-08T11:56:51.084565Z",
     "start_time": "2020-10-08T11:56:50.918935Z"
    }
   },
   "outputs": [
    {
     "name": "stdout",
     "output_type": "stream",
     "text": [
      "(256000, 16) (64000, 16) (256000,) (64000,)\n"
     ]
    }
   ],
   "source": [
    "X_trn, X_val, y_trn, y_val = train_test_split(trn, y, test_size=.2, random_state=seed)\n",
    "print(X_trn.shape, X_val.shape, y_trn.shape, y_val.shape)"
   ]
  },
  {
   "cell_type": "code",
   "execution_count": 9,
   "metadata": {
    "ExecuteTime": {
     "end_time": "2020-10-08T11:56:51.205321Z",
     "start_time": "2020-10-08T11:56:51.103228Z"
    }
   },
   "outputs": [
    {
     "data": {
      "text/html": [
       "<div>\n",
       "<style scoped>\n",
       "    .dataframe tbody tr th:only-of-type {\n",
       "        vertical-align: middle;\n",
       "    }\n",
       "\n",
       "    .dataframe tbody tr th {\n",
       "        vertical-align: top;\n",
       "    }\n",
       "\n",
       "    .dataframe thead th {\n",
       "        text-align: right;\n",
       "    }\n",
       "</style>\n",
       "<table border=\"1\" class=\"dataframe\">\n",
       "  <thead>\n",
       "    <tr style=\"text-align: right;\">\n",
       "      <th></th>\n",
       "      <th>u</th>\n",
       "      <th>g</th>\n",
       "      <th>r</th>\n",
       "      <th>i</th>\n",
       "      <th>z</th>\n",
       "      <th>redshift</th>\n",
       "      <th>dered_u</th>\n",
       "      <th>dered_g</th>\n",
       "      <th>dered_r</th>\n",
       "      <th>dered_i</th>\n",
       "      <th>dered_z</th>\n",
       "      <th>nObserve</th>\n",
       "      <th>nDetect</th>\n",
       "      <th>airmass_u</th>\n",
       "      <th>airmass_g</th>\n",
       "      <th>airmass_r</th>\n",
       "      <th>airmass_i</th>\n",
       "      <th>airmass_z</th>\n",
       "    </tr>\n",
       "    <tr>\n",
       "      <th>id</th>\n",
       "      <th></th>\n",
       "      <th></th>\n",
       "      <th></th>\n",
       "      <th></th>\n",
       "      <th></th>\n",
       "      <th></th>\n",
       "      <th></th>\n",
       "      <th></th>\n",
       "      <th></th>\n",
       "      <th></th>\n",
       "      <th></th>\n",
       "      <th></th>\n",
       "      <th></th>\n",
       "      <th></th>\n",
       "      <th></th>\n",
       "      <th></th>\n",
       "      <th></th>\n",
       "      <th></th>\n",
       "    </tr>\n",
       "  </thead>\n",
       "  <tbody>\n",
       "    <tr>\n",
       "      <th>320000</th>\n",
       "      <td>19.1431</td>\n",
       "      <td>18.0172</td>\n",
       "      <td>17.4733</td>\n",
       "      <td>17.1144</td>\n",
       "      <td>16.9263</td>\n",
       "      <td>1.2130e-01</td>\n",
       "      <td>19.0750</td>\n",
       "      <td>17.9550</td>\n",
       "      <td>17.4308</td>\n",
       "      <td>17.0838</td>\n",
       "      <td>16.9087</td>\n",
       "      <td>1</td>\n",
       "      <td>1</td>\n",
       "      <td>1.1563</td>\n",
       "      <td>1.1515</td>\n",
       "      <td>1.1613</td>\n",
       "      <td>1.1588</td>\n",
       "      <td>1.1539</td>\n",
       "    </tr>\n",
       "    <tr>\n",
       "      <th>320001</th>\n",
       "      <td>18.7409</td>\n",
       "      <td>17.1705</td>\n",
       "      <td>16.3691</td>\n",
       "      <td>15.9865</td>\n",
       "      <td>15.7307</td>\n",
       "      <td>-6.6907e-05</td>\n",
       "      <td>15.0703</td>\n",
       "      <td>14.3098</td>\n",
       "      <td>14.3901</td>\n",
       "      <td>14.5160</td>\n",
       "      <td>14.6372</td>\n",
       "      <td>2</td>\n",
       "      <td>2</td>\n",
       "      <td>1.0076</td>\n",
       "      <td>1.0074</td>\n",
       "      <td>1.0080</td>\n",
       "      <td>1.0078</td>\n",
       "      <td>1.0075</td>\n",
       "    </tr>\n",
       "    <tr>\n",
       "      <th>320002</th>\n",
       "      <td>19.2980</td>\n",
       "      <td>17.8803</td>\n",
       "      <td>17.2221</td>\n",
       "      <td>16.8096</td>\n",
       "      <td>16.6352</td>\n",
       "      <td>1.1001e-01</td>\n",
       "      <td>19.1004</td>\n",
       "      <td>17.7726</td>\n",
       "      <td>17.1460</td>\n",
       "      <td>16.7497</td>\n",
       "      <td>16.5689</td>\n",
       "      <td>1</td>\n",
       "      <td>1</td>\n",
       "      <td>1.3809</td>\n",
       "      <td>1.3905</td>\n",
       "      <td>1.3715</td>\n",
       "      <td>1.3761</td>\n",
       "      <td>1.3856</td>\n",
       "    </tr>\n",
       "    <tr>\n",
       "      <th>320003</th>\n",
       "      <td>18.0775</td>\n",
       "      <td>17.1569</td>\n",
       "      <td>16.9041</td>\n",
       "      <td>16.8118</td>\n",
       "      <td>16.7955</td>\n",
       "      <td>2.9697e-05</td>\n",
       "      <td>17.9729</td>\n",
       "      <td>17.0735</td>\n",
       "      <td>16.8470</td>\n",
       "      <td>16.7700</td>\n",
       "      <td>16.7668</td>\n",
       "      <td>1</td>\n",
       "      <td>1</td>\n",
       "      <td>1.1408</td>\n",
       "      <td>1.1408</td>\n",
       "      <td>1.1409</td>\n",
       "      <td>1.1408</td>\n",
       "      <td>1.1408</td>\n",
       "    </tr>\n",
       "    <tr>\n",
       "      <th>320004</th>\n",
       "      <td>17.8325</td>\n",
       "      <td>16.7646</td>\n",
       "      <td>16.2135</td>\n",
       "      <td>15.8722</td>\n",
       "      <td>15.6621</td>\n",
       "      <td>6.8471e-02</td>\n",
       "      <td>17.7545</td>\n",
       "      <td>16.6794</td>\n",
       "      <td>16.1563</td>\n",
       "      <td>15.8315</td>\n",
       "      <td>15.6433</td>\n",
       "      <td>2</td>\n",
       "      <td>2</td>\n",
       "      <td>1.1110</td>\n",
       "      <td>1.1077</td>\n",
       "      <td>1.1145</td>\n",
       "      <td>1.1127</td>\n",
       "      <td>1.1093</td>\n",
       "    </tr>\n",
       "    <tr>\n",
       "      <th>...</th>\n",
       "      <td>...</td>\n",
       "      <td>...</td>\n",
       "      <td>...</td>\n",
       "      <td>...</td>\n",
       "      <td>...</td>\n",
       "      <td>...</td>\n",
       "      <td>...</td>\n",
       "      <td>...</td>\n",
       "      <td>...</td>\n",
       "      <td>...</td>\n",
       "      <td>...</td>\n",
       "      <td>...</td>\n",
       "      <td>...</td>\n",
       "      <td>...</td>\n",
       "      <td>...</td>\n",
       "      <td>...</td>\n",
       "      <td>...</td>\n",
       "      <td>...</td>\n",
       "    </tr>\n",
       "    <tr>\n",
       "      <th>399995</th>\n",
       "      <td>19.6734</td>\n",
       "      <td>18.6617</td>\n",
       "      <td>18.2708</td>\n",
       "      <td>18.1225</td>\n",
       "      <td>18.0627</td>\n",
       "      <td>-3.1726e-04</td>\n",
       "      <td>19.3361</td>\n",
       "      <td>18.3933</td>\n",
       "      <td>18.0860</td>\n",
       "      <td>17.9861</td>\n",
       "      <td>17.9670</td>\n",
       "      <td>17</td>\n",
       "      <td>17</td>\n",
       "      <td>1.1858</td>\n",
       "      <td>1.1863</td>\n",
       "      <td>1.1855</td>\n",
       "      <td>1.1857</td>\n",
       "      <td>1.1861</td>\n",
       "    </tr>\n",
       "    <tr>\n",
       "      <th>399996</th>\n",
       "      <td>21.5229</td>\n",
       "      <td>20.7283</td>\n",
       "      <td>20.6087</td>\n",
       "      <td>21.0049</td>\n",
       "      <td>20.8458</td>\n",
       "      <td>6.5455e-02</td>\n",
       "      <td>21.3993</td>\n",
       "      <td>20.6399</td>\n",
       "      <td>20.5451</td>\n",
       "      <td>20.9507</td>\n",
       "      <td>20.7827</td>\n",
       "      <td>8</td>\n",
       "      <td>4</td>\n",
       "      <td>1.2850</td>\n",
       "      <td>1.2908</td>\n",
       "      <td>1.2793</td>\n",
       "      <td>1.2821</td>\n",
       "      <td>1.2878</td>\n",
       "    </tr>\n",
       "    <tr>\n",
       "      <th>399997</th>\n",
       "      <td>19.3991</td>\n",
       "      <td>18.2411</td>\n",
       "      <td>18.1605</td>\n",
       "      <td>18.1978</td>\n",
       "      <td>18.2018</td>\n",
       "      <td>-8.4180e-04</td>\n",
       "      <td>18.9136</td>\n",
       "      <td>17.8753</td>\n",
       "      <td>17.9047</td>\n",
       "      <td>18.0043</td>\n",
       "      <td>18.0400</td>\n",
       "      <td>1</td>\n",
       "      <td>1</td>\n",
       "      <td>1.1885</td>\n",
       "      <td>1.1886</td>\n",
       "      <td>1.1885</td>\n",
       "      <td>1.1885</td>\n",
       "      <td>1.1885</td>\n",
       "    </tr>\n",
       "    <tr>\n",
       "      <th>399998</th>\n",
       "      <td>18.8997</td>\n",
       "      <td>17.6009</td>\n",
       "      <td>17.1329</td>\n",
       "      <td>16.8223</td>\n",
       "      <td>16.5946</td>\n",
       "      <td>4.2817e-02</td>\n",
       "      <td>18.7715</td>\n",
       "      <td>17.4880</td>\n",
       "      <td>17.0557</td>\n",
       "      <td>16.7660</td>\n",
       "      <td>16.5585</td>\n",
       "      <td>17</td>\n",
       "      <td>17</td>\n",
       "      <td>1.1804</td>\n",
       "      <td>1.1813</td>\n",
       "      <td>1.1797</td>\n",
       "      <td>1.1800</td>\n",
       "      <td>1.1809</td>\n",
       "    </tr>\n",
       "    <tr>\n",
       "      <th>399999</th>\n",
       "      <td>20.7587</td>\n",
       "      <td>20.4252</td>\n",
       "      <td>20.5362</td>\n",
       "      <td>20.7729</td>\n",
       "      <td>20.9698</td>\n",
       "      <td>2.8523e-04</td>\n",
       "      <td>20.4958</td>\n",
       "      <td>20.2181</td>\n",
       "      <td>20.3939</td>\n",
       "      <td>20.6696</td>\n",
       "      <td>20.9085</td>\n",
       "      <td>5</td>\n",
       "      <td>5</td>\n",
       "      <td>1.1832</td>\n",
       "      <td>1.1775</td>\n",
       "      <td>1.1889</td>\n",
       "      <td>1.1860</td>\n",
       "      <td>1.1803</td>\n",
       "    </tr>\n",
       "  </tbody>\n",
       "</table>\n",
       "<p>80000 rows × 18 columns</p>\n",
       "</div>"
      ],
      "text/plain": [
       "              u        g        r        i        z    redshift  dered_u  \\\n",
       "id                                                                         \n",
       "320000  19.1431  18.0172  17.4733  17.1144  16.9263  1.2130e-01  19.0750   \n",
       "320001  18.7409  17.1705  16.3691  15.9865  15.7307 -6.6907e-05  15.0703   \n",
       "320002  19.2980  17.8803  17.2221  16.8096  16.6352  1.1001e-01  19.1004   \n",
       "320003  18.0775  17.1569  16.9041  16.8118  16.7955  2.9697e-05  17.9729   \n",
       "320004  17.8325  16.7646  16.2135  15.8722  15.6621  6.8471e-02  17.7545   \n",
       "...         ...      ...      ...      ...      ...         ...      ...   \n",
       "399995  19.6734  18.6617  18.2708  18.1225  18.0627 -3.1726e-04  19.3361   \n",
       "399996  21.5229  20.7283  20.6087  21.0049  20.8458  6.5455e-02  21.3993   \n",
       "399997  19.3991  18.2411  18.1605  18.1978  18.2018 -8.4180e-04  18.9136   \n",
       "399998  18.8997  17.6009  17.1329  16.8223  16.5946  4.2817e-02  18.7715   \n",
       "399999  20.7587  20.4252  20.5362  20.7729  20.9698  2.8523e-04  20.4958   \n",
       "\n",
       "        dered_g  dered_r  dered_i  dered_z  nObserve  nDetect  airmass_u  \\\n",
       "id                                                                         \n",
       "320000  17.9550  17.4308  17.0838  16.9087         1        1     1.1563   \n",
       "320001  14.3098  14.3901  14.5160  14.6372         2        2     1.0076   \n",
       "320002  17.7726  17.1460  16.7497  16.5689         1        1     1.3809   \n",
       "320003  17.0735  16.8470  16.7700  16.7668         1        1     1.1408   \n",
       "320004  16.6794  16.1563  15.8315  15.6433         2        2     1.1110   \n",
       "...         ...      ...      ...      ...       ...      ...        ...   \n",
       "399995  18.3933  18.0860  17.9861  17.9670        17       17     1.1858   \n",
       "399996  20.6399  20.5451  20.9507  20.7827         8        4     1.2850   \n",
       "399997  17.8753  17.9047  18.0043  18.0400         1        1     1.1885   \n",
       "399998  17.4880  17.0557  16.7660  16.5585        17       17     1.1804   \n",
       "399999  20.2181  20.3939  20.6696  20.9085         5        5     1.1832   \n",
       "\n",
       "        airmass_g  airmass_r  airmass_i  airmass_z  \n",
       "id                                                  \n",
       "320000     1.1515     1.1613     1.1588     1.1539  \n",
       "320001     1.0074     1.0080     1.0078     1.0075  \n",
       "320002     1.3905     1.3715     1.3761     1.3856  \n",
       "320003     1.1408     1.1409     1.1408     1.1408  \n",
       "320004     1.1077     1.1145     1.1127     1.1093  \n",
       "...           ...        ...        ...        ...  \n",
       "399995     1.1863     1.1855     1.1857     1.1861  \n",
       "399996     1.2908     1.2793     1.2821     1.2878  \n",
       "399997     1.1886     1.1885     1.1885     1.1885  \n",
       "399998     1.1813     1.1797     1.1800     1.1809  \n",
       "399999     1.1775     1.1889     1.1860     1.1803  \n",
       "\n",
       "[80000 rows x 18 columns]"
      ]
     },
     "execution_count": 9,
     "metadata": {},
     "output_type": "execute_result"
    }
   ],
   "source": [
    "tst"
   ]
  },
  {
   "cell_type": "code",
   "execution_count": 10,
   "metadata": {
    "ExecuteTime": {
     "end_time": "2020-10-08T11:56:51.318715Z",
     "start_time": "2020-10-08T11:56:51.216734Z"
    }
   },
   "outputs": [],
   "source": [
    "tst.drop(['nDetect','nObserve'],axis=1,inplace=True)"
   ]
  },
  {
   "cell_type": "code",
   "execution_count": 11,
   "metadata": {
    "ExecuteTime": {
     "end_time": "2020-10-08T11:57:02.041377Z",
     "start_time": "2020-10-08T11:56:51.320684Z"
    }
   },
   "outputs": [
    {
     "name": "stdout",
     "output_type": "stream",
     "text": [
      "[1]\tvalid_0's multi_logloss: 0.852655\n",
      "Training until validation scores don't improve for 10 rounds\n",
      "[2]\tvalid_0's multi_logloss: 0.749664\n",
      "[3]\tvalid_0's multi_logloss: 0.667389\n",
      "[4]\tvalid_0's multi_logloss: 0.612178\n",
      "[5]\tvalid_0's multi_logloss: 0.554941\n",
      "[6]\tvalid_0's multi_logloss: 0.509933\n",
      "[7]\tvalid_0's multi_logloss: 0.471548\n",
      "[8]\tvalid_0's multi_logloss: 0.43646\n",
      "[9]\tvalid_0's multi_logloss: 0.40661\n",
      "[10]\tvalid_0's multi_logloss: 0.380942\n",
      "[11]\tvalid_0's multi_logloss: 0.360043\n",
      "[12]\tvalid_0's multi_logloss: 0.340592\n",
      "[13]\tvalid_0's multi_logloss: 0.325408\n",
      "[14]\tvalid_0's multi_logloss: 0.312054\n",
      "[15]\tvalid_0's multi_logloss: 0.298783\n",
      "[16]\tvalid_0's multi_logloss: 0.28734\n",
      "[17]\tvalid_0's multi_logloss: 0.27702\n",
      "[18]\tvalid_0's multi_logloss: 0.267991\n",
      "[19]\tvalid_0's multi_logloss: 0.25999\n",
      "[20]\tvalid_0's multi_logloss: 0.253428\n",
      "[21]\tvalid_0's multi_logloss: 0.247057\n",
      "[22]\tvalid_0's multi_logloss: 0.242715\n",
      "[23]\tvalid_0's multi_logloss: 0.237515\n",
      "[24]\tvalid_0's multi_logloss: 0.232832\n",
      "[25]\tvalid_0's multi_logloss: 0.228506\n",
      "[26]\tvalid_0's multi_logloss: 0.225357\n",
      "[27]\tvalid_0's multi_logloss: 0.222737\n",
      "[28]\tvalid_0's multi_logloss: 0.219602\n",
      "[29]\tvalid_0's multi_logloss: 0.217488\n",
      "[30]\tvalid_0's multi_logloss: 0.215182\n",
      "[31]\tvalid_0's multi_logloss: 0.212958\n",
      "[32]\tvalid_0's multi_logloss: 0.210662\n",
      "[33]\tvalid_0's multi_logloss: 0.208749\n",
      "[34]\tvalid_0's multi_logloss: 0.206904\n",
      "[35]\tvalid_0's multi_logloss: 0.20532\n",
      "[36]\tvalid_0's multi_logloss: 0.20377\n",
      "[37]\tvalid_0's multi_logloss: 0.202339\n",
      "[38]\tvalid_0's multi_logloss: 0.201311\n",
      "[39]\tvalid_0's multi_logloss: 0.200151\n",
      "[40]\tvalid_0's multi_logloss: 0.199408\n",
      "[41]\tvalid_0's multi_logloss: 0.198424\n",
      "[42]\tvalid_0's multi_logloss: 0.197492\n",
      "[43]\tvalid_0's multi_logloss: 0.196884\n",
      "[44]\tvalid_0's multi_logloss: 0.196083\n",
      "[45]\tvalid_0's multi_logloss: 0.195529\n",
      "[46]\tvalid_0's multi_logloss: 0.194799\n",
      "[47]\tvalid_0's multi_logloss: 0.194177\n",
      "[48]\tvalid_0's multi_logloss: 0.193514\n",
      "[49]\tvalid_0's multi_logloss: 0.192971\n",
      "[50]\tvalid_0's multi_logloss: 0.192376\n",
      "[51]\tvalid_0's multi_logloss: 0.191952\n",
      "[52]\tvalid_0's multi_logloss: 0.191463\n",
      "[53]\tvalid_0's multi_logloss: 0.190982\n",
      "[54]\tvalid_0's multi_logloss: 0.190606\n",
      "[55]\tvalid_0's multi_logloss: 0.190126\n",
      "[56]\tvalid_0's multi_logloss: 0.189847\n",
      "[57]\tvalid_0's multi_logloss: 0.189471\n",
      "[58]\tvalid_0's multi_logloss: 0.189064\n",
      "[59]\tvalid_0's multi_logloss: 0.188867\n",
      "[60]\tvalid_0's multi_logloss: 0.188582\n",
      "[61]\tvalid_0's multi_logloss: 0.18817\n",
      "[62]\tvalid_0's multi_logloss: 0.188127\n",
      "[63]\tvalid_0's multi_logloss: 0.187813\n",
      "[64]\tvalid_0's multi_logloss: 0.187428\n",
      "[65]\tvalid_0's multi_logloss: 0.187262\n",
      "[66]\tvalid_0's multi_logloss: 0.19033\n",
      "[67]\tvalid_0's multi_logloss: 0.187781\n",
      "[68]\tvalid_0's multi_logloss: 0.187501\n",
      "[69]\tvalid_0's multi_logloss: 0.187229\n",
      "[70]\tvalid_0's multi_logloss: 0.186962\n",
      "[71]\tvalid_0's multi_logloss: 0.186861\n",
      "[72]\tvalid_0's multi_logloss: 0.186619\n",
      "[73]\tvalid_0's multi_logloss: 0.186472\n",
      "[74]\tvalid_0's multi_logloss: 0.186315\n",
      "[75]\tvalid_0's multi_logloss: 0.18671\n",
      "[76]\tvalid_0's multi_logloss: 0.18615\n",
      "[77]\tvalid_0's multi_logloss: 0.1859\n",
      "[78]\tvalid_0's multi_logloss: 0.185795\n",
      "[79]\tvalid_0's multi_logloss: 0.185625\n",
      "[80]\tvalid_0's multi_logloss: 0.185522\n",
      "[81]\tvalid_0's multi_logloss: 0.185794\n",
      "[82]\tvalid_0's multi_logloss: 0.185625\n",
      "[83]\tvalid_0's multi_logloss: 0.185595\n",
      "[84]\tvalid_0's multi_logloss: 0.185392\n",
      "[85]\tvalid_0's multi_logloss: 0.18525\n",
      "[86]\tvalid_0's multi_logloss: 0.18517\n",
      "[87]\tvalid_0's multi_logloss: 0.185111\n",
      "[88]\tvalid_0's multi_logloss: 0.185071\n",
      "[89]\tvalid_0's multi_logloss: 0.185886\n",
      "[90]\tvalid_0's multi_logloss: 0.185558\n",
      "[91]\tvalid_0's multi_logloss: 0.185455\n",
      "[92]\tvalid_0's multi_logloss: 0.185408\n",
      "[93]\tvalid_0's multi_logloss: 0.185285\n",
      "[94]\tvalid_0's multi_logloss: 0.185227\n",
      "[95]\tvalid_0's multi_logloss: 0.186449\n",
      "[96]\tvalid_0's multi_logloss: 0.192222\n",
      "[97]\tvalid_0's multi_logloss: 0.20232\n",
      "[98]\tvalid_0's multi_logloss: 0.198082\n",
      "Early stopping, best iteration is:\n",
      "[88]\tvalid_0's multi_logloss: 0.185071\n"
     ]
    }
   ],
   "source": [
    "clf = lgb.LGBMClassifier(objective='multiclass',\n",
    "                         n_estimators=10000,\n",
    "                         num_leaves=64,\n",
    "                         learning_rate=0.1,\n",
    "                         min_child_samples=10,\n",
    "                         subsample=.5,\n",
    "                         subsample_freq=1,\n",
    "                         colsample_bytree=.8,\n",
    "                         random_state=seed,\n",
    "                         n_jobs=-1)\n",
    "clf.fit(X_trn, y_trn,\n",
    "        eval_set=[(X_val, y_val)],\n",
    "        eval_metric='multiclass',\n",
    "        early_stopping_rounds=10)\n",
    "p_val = clf.predict(X_val)\n",
    "p_tst = clf.predict(tst)"
   ]
  },
  {
   "cell_type": "code",
   "execution_count": 12,
   "metadata": {
    "ExecuteTime": {
     "end_time": "2020-10-08T11:57:02.100569Z",
     "start_time": "2020-10-08T11:57:02.047512Z"
    }
   },
   "outputs": [
    {
     "name": "stdout",
     "output_type": "stream",
     "text": [
      "92.3156%\n"
     ]
    }
   ],
   "source": [
    "print(f'{accuracy_score(y_val, p_val) * 100:.4f}%')\n"
   ]
  },
  {
   "cell_type": "code",
   "execution_count": 13,
   "metadata": {
    "ExecuteTime": {
     "end_time": "2020-10-08T11:57:02.576266Z",
     "start_time": "2020-10-08T11:57:02.105605Z"
    }
   },
   "outputs": [
    {
     "data": {
      "text/plain": [
       "<matplotlib.axes._subplots.AxesSubplot at 0x7f8468d2d190>"
      ]
     },
     "execution_count": 13,
     "metadata": {},
     "output_type": "execute_result"
    },
    {
     "data": {
      "image/png": "[encoded data removed]",
      "text/plain": [
       "<Figure size 1152x576 with 1 Axes>"
      ]
     },
     "metadata": {},
     "output_type": "display_data"
    }
   ],
   "source": [
    "imp = pd.DataFrame({'feature': trn.columns, 'importance': clf.feature_importances_})\n",
    "imp = imp.sort_values('importance').set_index('feature')\n",
    "imp.plot(kind='barh')"
   ]
  },
  {
   "cell_type": "code",
   "execution_count": 14,
   "metadata": {
    "ExecuteTime": {
     "end_time": "2020-10-08T11:57:02.748658Z",
     "start_time": "2020-10-08T11:57:02.586045Z"
    }
   },
   "outputs": [
    {
     "name": "stdout",
     "output_type": "stream",
     "text": [
      "(80000, 1)\n"
     ]
    },
    {
     "data": {
      "text/html": [
       "<div>\n",
       "<style scoped>\n",
       "    .dataframe tbody tr th:only-of-type {\n",
       "        vertical-align: middle;\n",
       "    }\n",
       "\n",
       "    .dataframe tbody tr th {\n",
       "        vertical-align: top;\n",
       "    }\n",
       "\n",
       "    .dataframe thead th {\n",
       "        text-align: right;\n",
       "    }\n",
       "</style>\n",
       "<table border=\"1\" class=\"dataframe\">\n",
       "  <thead>\n",
       "    <tr style=\"text-align: right;\">\n",
       "      <th></th>\n",
       "      <th>class</th>\n",
       "    </tr>\n",
       "    <tr>\n",
       "      <th>id</th>\n",
       "      <th></th>\n",
       "    </tr>\n",
       "  </thead>\n",
       "  <tbody>\n",
       "    <tr>\n",
       "      <th>320000</th>\n",
       "      <td>0</td>\n",
       "    </tr>\n",
       "    <tr>\n",
       "      <th>320001</th>\n",
       "      <td>0</td>\n",
       "    </tr>\n",
       "    <tr>\n",
       "      <th>320002</th>\n",
       "      <td>0</td>\n",
       "    </tr>\n",
       "    <tr>\n",
       "      <th>320003</th>\n",
       "      <td>0</td>\n",
       "    </tr>\n",
       "    <tr>\n",
       "      <th>320004</th>\n",
       "      <td>0</td>\n",
       "    </tr>\n",
       "  </tbody>\n",
       "</table>\n",
       "</div>"
      ],
      "text/plain": [
       "        class\n",
       "id           \n",
       "320000      0\n",
       "320001      0\n",
       "320002      0\n",
       "320003      0\n",
       "320004      0"
      ]
     },
     "execution_count": 14,
     "metadata": {},
     "output_type": "execute_result"
    }
   ],
   "source": [
    "sub = pd.read_csv(sample_file, index_col=0)\n",
    "print(sub.shape)\n",
    "sub.head()"
   ]
  },
  {
   "cell_type": "code",
   "execution_count": 15,
   "metadata": {
    "ExecuteTime": {
     "end_time": "2020-10-08T11:57:02.851464Z",
     "start_time": "2020-10-08T11:57:02.755792Z"
    }
   },
   "outputs": [
    {
     "data": {
      "text/html": [
       "<div>\n",
       "<style scoped>\n",
       "    .dataframe tbody tr th:only-of-type {\n",
       "        vertical-align: middle;\n",
       "    }\n",
       "\n",
       "    .dataframe tbody tr th {\n",
       "        vertical-align: top;\n",
       "    }\n",
       "\n",
       "    .dataframe thead th {\n",
       "        text-align: right;\n",
       "    }\n",
       "</style>\n",
       "<table border=\"1\" class=\"dataframe\">\n",
       "  <thead>\n",
       "    <tr style=\"text-align: right;\">\n",
       "      <th></th>\n",
       "      <th>class</th>\n",
       "    </tr>\n",
       "    <tr>\n",
       "      <th>id</th>\n",
       "      <th></th>\n",
       "    </tr>\n",
       "  </thead>\n",
       "  <tbody>\n",
       "    <tr>\n",
       "      <th>320000</th>\n",
       "      <td>0</td>\n",
       "    </tr>\n",
       "    <tr>\n",
       "      <th>320001</th>\n",
       "      <td>0</td>\n",
       "    </tr>\n",
       "    <tr>\n",
       "      <th>320002</th>\n",
       "      <td>0</td>\n",
       "    </tr>\n",
       "    <tr>\n",
       "      <th>320003</th>\n",
       "      <td>0</td>\n",
       "    </tr>\n",
       "    <tr>\n",
       "      <th>320004</th>\n",
       "      <td>0</td>\n",
       "    </tr>\n",
       "  </tbody>\n",
       "</table>\n",
       "</div>"
      ],
      "text/plain": [
       "        class\n",
       "id           \n",
       "320000      0\n",
       "320001      0\n",
       "320002      0\n",
       "320003      0\n",
       "320004      0"
      ]
     },
     "execution_count": 15,
     "metadata": {},
     "output_type": "execute_result"
    }
   ],
   "source": [
    "sub[target_col] = p_tst\n",
    "sub.head()"
   ]
  },
  {
   "cell_type": "code",
   "execution_count": 16,
   "metadata": {
    "ExecuteTime": {
     "end_time": "2020-10-08T11:57:02.908257Z",
     "start_time": "2020-10-08T11:57:02.854749Z"
    }
   },
   "outputs": [
    {
     "data": {
      "text/plain": [
       "0    79988\n",
       "2       12\n",
       "Name: class, dtype: int64"
      ]
     },
     "execution_count": 16,
     "metadata": {},
     "output_type": "execute_result"
    }
   ],
   "source": [
    "sub[target_col].value_counts()"
   ]
  },
  {
   "cell_type": "code",
   "execution_count": 17,
   "metadata": {
    "ExecuteTime": {
     "end_time": "2020-10-08T11:57:03.080088Z",
     "start_time": "2020-10-08T11:57:02.916853Z"
    }
   },
   "outputs": [],
   "source": [
    "sub.to_csv(sub_file)"
   ]
  },
  {
   "cell_type": "code",
   "execution_count": null,
   "metadata": {},
   "outputs": [],
   "source": []
  }
 ],
 "metadata": {
  "kernelspec": {
   "display_name": "Python 3",
   "language": "python",
   "name": "python3"
  },
  "language_info": {
   "codemirror_mode": {
    "name": "ipython",
    "version": 3
   },
   "file_extension": ".py",
   "mimetype": "text/x-python",
   "name": "python",
   "nbconvert_exporter": "python",
   "pygments_lexer": "ipython3",
   "version": "3.7.6"
  }
 },
 "nbformat": 4,
 "nbformat_minor": 4
}
